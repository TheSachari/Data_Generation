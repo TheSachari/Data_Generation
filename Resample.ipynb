{
 "cells": [
  {
   "cell_type": "markdown",
   "id": "c2b7d5dd-2410-463f-9341-eb4809f0ede2",
   "metadata": {},
   "source": [
    "# Import"
   ]
  },
  {
   "cell_type": "code",
   "execution_count": 1,
   "id": "9af0246c-e373-4d02-84a6-8f371e02a3f8",
   "metadata": {},
   "outputs": [],
   "source": [
    "import pandas as pd\n",
    "import numpy as np\n",
    "import seaborn as sns\n",
    "import random\n",
    "import os\n",
    "from math import sqrt\n",
    "\n",
    "import geopandas\n",
    "\n",
    "from data import *\n",
    "from generation import *"
   ]
  },
  {
   "cell_type": "code",
   "execution_count": 2,
   "id": "d22efcd0-7a5b-4ee9-ae29-3dec8707dc68",
   "metadata": {},
   "outputs": [
    {
     "name": "stdout",
     "output_type": "stream",
     "text": [
      "device is cuda\n"
     ]
    }
   ],
   "source": [
    "os.environ['CUDA_LAUNCH_BLOCKING'] = \"1\"\n",
    "device = torch.device(\"cuda\" if torch.cuda.is_available() else \"cpu\")\n",
    "print(\"device is\", device)"
   ]
  },
  {
   "cell_type": "code",
   "execution_count": 3,
   "id": "4e798eb9-610f-4411-981c-a2c31a67c009",
   "metadata": {},
   "outputs": [],
   "source": [
    "os.chdir('./Data')"
   ]
  },
  {
   "cell_type": "code",
   "execution_count": 4,
   "id": "3ff1c484-ee92-4d41-8459-ff6d9ba86fec",
   "metadata": {},
   "outputs": [],
   "source": [
    "filename = \"pdd.geojson\"\n",
    "gdf_areas = geopandas.read_file(filename)\n",
    "zones = union_iris(gdf_areas, \"cis1\" , True, ['MONTGISCARD', 'AUSSONNE', 'TOULOUSE - ATLANTA', 'TOULOUSE - CARSALADE', 'TOULOUSE - DELRIEU'])"
   ]
  },
  {
   "cell_type": "markdown",
   "id": "65649d42-9575-48cc-b238-326554ff5dfd",
   "metadata": {},
   "source": [
    "# Resampling"
   ]
  },
  {
   "cell_type": "code",
   "execution_count": 5,
   "id": "6a0148c4-fd07-42b2-82b4-a33f05e906a8",
   "metadata": {},
   "outputs": [],
   "source": [
    "df_raw = pd.read_csv(\"./raw_data.csv\") \n",
    "df_tvae = pd.read_csv(\"./tvae.csv\") \n",
    "df_gan = pd.read_csv(\"./gan.csv\") \n",
    "df_ctgan = pd.read_csv(\"./ctgan.csv\") \n",
    "df_ddpm = pd.read_csv(\"./ddpm.csv\") \n",
    "df_tiny = pd.read_csv(\"./tiny.csv\") "
   ]
  },
  {
   "cell_type": "code",
   "execution_count": 6,
   "id": "c3ace487-0eaf-4bc1-9620-770131662bbd",
   "metadata": {},
   "outputs": [
    {
     "name": "stdout",
     "output_type": "stream",
     "text": [
      "(53467, 7) (160401, 7) (160401, 7) (160401, 7) (160401, 7) (160401, 7)\n"
     ]
    }
   ],
   "source": [
    "print(df_raw.shape, df_tvae.shape, df_gan.shape, df_ctgan.shape, df_ddpm.shape, df_tiny.shape)"
   ]
  },
  {
   "cell_type": "code",
   "execution_count": 7,
   "id": "d1c1d831-cd3c-4d72-904a-593f0ce50f7d",
   "metadata": {},
   "outputs": [],
   "source": [
    "gdf_real = geopandas.GeoDataFrame(df_raw, geometry=geopandas.points_from_xy(df_raw['Coord X'], df_raw['Coord Y']), crs=\"2154\")\n",
    "df_raw['area_name'] = gdf_real[\"geometry\"].apply(get_point_in_area, args=(zones,))"
   ]
  },
  {
   "cell_type": "code",
   "execution_count": 8,
   "id": "544206e4-313d-4748-9219-90a6b030147a",
   "metadata": {},
   "outputs": [
    {
     "data": {
      "text/plain": [
       "0"
      ]
     },
     "execution_count": 8,
     "metadata": {},
     "output_type": "execute_result"
    }
   ],
   "source": [
    "var = 0.02 # variability tolerated in the sampled data\n",
    "df_new_samples = create_df_new_samples(df_raw, var) # compute the number of new samples for each sector\n",
    "df_new_samples.delta.sum() # should return 0 when number of new samples = number of old samples"
   ]
  },
  {
   "cell_type": "code",
   "execution_count": 9,
   "id": "1f49f327-4147-4e85-9028-05ad62cd42ac",
   "metadata": {},
   "outputs": [
    {
     "data": {
      "text/html": [
       "<div>\n",
       "<style scoped>\n",
       "    .dataframe tbody tr th:only-of-type {\n",
       "        vertical-align: middle;\n",
       "    }\n",
       "\n",
       "    .dataframe tbody tr th {\n",
       "        vertical-align: top;\n",
       "    }\n",
       "\n",
       "    .dataframe thead th {\n",
       "        text-align: right;\n",
       "    }\n",
       "</style>\n",
       "<table border=\"1\" class=\"dataframe\">\n",
       "  <thead>\n",
       "    <tr style=\"text-align: right;\">\n",
       "      <th></th>\n",
       "      <th>area_name</th>\n",
       "      <th>count</th>\n",
       "      <th>new_samples</th>\n",
       "      <th>perc.</th>\n",
       "      <th>delta</th>\n",
       "    </tr>\n",
       "  </thead>\n",
       "  <tbody>\n",
       "    <tr>\n",
       "      <th>0</th>\n",
       "      <td>TOULOUSE - VION</td>\n",
       "      <td>8976</td>\n",
       "      <td>8969</td>\n",
       "      <td>-0.077986</td>\n",
       "      <td>-7</td>\n",
       "    </tr>\n",
       "    <tr>\n",
       "      <th>1</th>\n",
       "      <td>TOULOUSE - LOUGNON</td>\n",
       "      <td>8790</td>\n",
       "      <td>8846</td>\n",
       "      <td>0.637088</td>\n",
       "      <td>56</td>\n",
       "    </tr>\n",
       "    <tr>\n",
       "      <th>2</th>\n",
       "      <td>COLOMIERS</td>\n",
       "      <td>6390</td>\n",
       "      <td>6332</td>\n",
       "      <td>-0.907668</td>\n",
       "      <td>-58</td>\n",
       "    </tr>\n",
       "    <tr>\n",
       "      <th>3</th>\n",
       "      <td>RAMONVILLE - BUCHENS</td>\n",
       "      <td>5016</td>\n",
       "      <td>5087</td>\n",
       "      <td>1.415470</td>\n",
       "      <td>71</td>\n",
       "    </tr>\n",
       "    <tr>\n",
       "      <th>4</th>\n",
       "      <td>MURET - MASSAT</td>\n",
       "      <td>4086</td>\n",
       "      <td>4021</td>\n",
       "      <td>-1.590798</td>\n",
       "      <td>-65</td>\n",
       "    </tr>\n",
       "  </tbody>\n",
       "</table>\n",
       "</div>"
      ],
      "text/plain": [
       "              area_name  count  new_samples     perc.  delta\n",
       "0       TOULOUSE - VION   8976         8969 -0.077986     -7\n",
       "1    TOULOUSE - LOUGNON   8790         8846  0.637088     56\n",
       "2             COLOMIERS   6390         6332 -0.907668    -58\n",
       "3  RAMONVILLE - BUCHENS   5016         5087  1.415470     71\n",
       "4        MURET - MASSAT   4086         4021 -1.590798    -65"
      ]
     },
     "execution_count": 9,
     "metadata": {},
     "output_type": "execute_result"
    }
   ],
   "source": [
    "df_new_samples.head()"
   ]
  },
  {
   "cell_type": "markdown",
   "id": "04289fa0-6281-482a-a2f8-dbe16c085b19",
   "metadata": {},
   "source": [
    "## TVAE"
   ]
  },
  {
   "cell_type": "code",
   "execution_count": 10,
   "id": "778006fe-507d-4fa5-ad72-f4ce58815b6a",
   "metadata": {},
   "outputs": [],
   "source": [
    "gdf_fake = geopandas.GeoDataFrame(df_tvae, geometry=geopandas.points_from_xy(df_tvae['Coord X'], df_tvae['Coord Y']), crs=\"2154\")\n",
    "df_tvae['area_name'] = gdf_fake[\"geometry\"].apply(get_point_in_area, args=(zones,))"
   ]
  },
  {
   "cell_type": "code",
   "execution_count": 11,
   "id": "c9c070c8-6a5b-43e5-aba6-0d0b76b6db83",
   "metadata": {},
   "outputs": [
    {
     "data": {
      "text/html": [
       "<div>\n",
       "<style scoped>\n",
       "    .dataframe tbody tr th:only-of-type {\n",
       "        vertical-align: middle;\n",
       "    }\n",
       "\n",
       "    .dataframe tbody tr th {\n",
       "        vertical-align: top;\n",
       "    }\n",
       "\n",
       "    .dataframe thead th {\n",
       "        text-align: right;\n",
       "    }\n",
       "</style>\n",
       "<table border=\"1\" class=\"dataframe\">\n",
       "  <thead>\n",
       "    <tr style=\"text-align: right;\">\n",
       "      <th></th>\n",
       "      <th>Coord X</th>\n",
       "      <th>Coord Y</th>\n",
       "      <th>Duration</th>\n",
       "      <th>Incident</th>\n",
       "      <th>Month</th>\n",
       "      <th>Day</th>\n",
       "      <th>Hour</th>\n",
       "      <th>area_name</th>\n",
       "    </tr>\n",
       "  </thead>\n",
       "  <tbody>\n",
       "    <tr>\n",
       "      <th>0</th>\n",
       "      <td>573917.611455</td>\n",
       "      <td>6.277998e+06</td>\n",
       "      <td>103</td>\n",
       "      <td>1</td>\n",
       "      <td>6</td>\n",
       "      <td>152</td>\n",
       "      <td>13</td>\n",
       "      <td>TOULOUSE - VION</td>\n",
       "    </tr>\n",
       "    <tr>\n",
       "      <th>1</th>\n",
       "      <td>572993.952984</td>\n",
       "      <td>6.280714e+06</td>\n",
       "      <td>90</td>\n",
       "      <td>1</td>\n",
       "      <td>3</td>\n",
       "      <td>300</td>\n",
       "      <td>15</td>\n",
       "      <td>TOULOUSE - VION</td>\n",
       "    </tr>\n",
       "    <tr>\n",
       "      <th>2</th>\n",
       "      <td>573795.353245</td>\n",
       "      <td>6.280802e+06</td>\n",
       "      <td>33</td>\n",
       "      <td>1</td>\n",
       "      <td>7</td>\n",
       "      <td>211</td>\n",
       "      <td>15</td>\n",
       "      <td>TOULOUSE - VION</td>\n",
       "    </tr>\n",
       "    <tr>\n",
       "      <th>3</th>\n",
       "      <td>573401.044721</td>\n",
       "      <td>6.273532e+06</td>\n",
       "      <td>81</td>\n",
       "      <td>1</td>\n",
       "      <td>4</td>\n",
       "      <td>135</td>\n",
       "      <td>21</td>\n",
       "      <td>TOULOUSE - VION</td>\n",
       "    </tr>\n",
       "    <tr>\n",
       "      <th>4</th>\n",
       "      <td>573091.453597</td>\n",
       "      <td>6.281721e+06</td>\n",
       "      <td>37</td>\n",
       "      <td>1</td>\n",
       "      <td>4</td>\n",
       "      <td>104</td>\n",
       "      <td>22</td>\n",
       "      <td>TOULOUSE - VION</td>\n",
       "    </tr>\n",
       "  </tbody>\n",
       "</table>\n",
       "</div>"
      ],
      "text/plain": [
       "         Coord X       Coord Y  Duration  Incident  Month  Day  Hour  \\\n",
       "0  573917.611455  6.277998e+06       103         1      6  152    13   \n",
       "1  572993.952984  6.280714e+06        90         1      3  300    15   \n",
       "2  573795.353245  6.280802e+06        33         1      7  211    15   \n",
       "3  573401.044721  6.273532e+06        81         1      4  135    21   \n",
       "4  573091.453597  6.281721e+06        37         1      4  104    22   \n",
       "\n",
       "         area_name  \n",
       "0  TOULOUSE - VION  \n",
       "1  TOULOUSE - VION  \n",
       "2  TOULOUSE - VION  \n",
       "3  TOULOUSE - VION  \n",
       "4  TOULOUSE - VION  "
      ]
     },
     "execution_count": 11,
     "metadata": {},
     "output_type": "execute_result"
    }
   ],
   "source": [
    "df_new = new_df_sample(df_new_samples, df_tvae)\n",
    "df_new.head()"
   ]
  },
  {
   "cell_type": "code",
   "execution_count": 12,
   "id": "cbd46a21-69fe-445f-91fd-05c2b1a53d81",
   "metadata": {},
   "outputs": [],
   "source": [
    "df_new.to_csv(\"resample_tvae.csv\", index=False, header=True)"
   ]
  },
  {
   "cell_type": "markdown",
   "id": "2658fd55-bf33-44ee-ac5f-221e1b7439ec",
   "metadata": {},
   "source": [
    "## GAN"
   ]
  },
  {
   "cell_type": "code",
   "execution_count": 13,
   "id": "c4c93235-0ffd-4da7-8f79-7af6432d99cb",
   "metadata": {},
   "outputs": [],
   "source": [
    "gdf_fake = geopandas.GeoDataFrame(df_tvae, geometry=geopandas.points_from_xy(df_gan['Coord X'], df_gan['Coord Y']), crs=\"2154\")\n",
    "df_gan['area_name'] = gdf_fake[\"geometry\"].apply(get_point_in_area, args=(zones,))"
   ]
  },
  {
   "cell_type": "code",
   "execution_count": 14,
   "id": "54ba73e5-2438-458c-8405-f821b45a41f1",
   "metadata": {},
   "outputs": [
    {
     "data": {
      "text/html": [
       "<div>\n",
       "<style scoped>\n",
       "    .dataframe tbody tr th:only-of-type {\n",
       "        vertical-align: middle;\n",
       "    }\n",
       "\n",
       "    .dataframe tbody tr th {\n",
       "        vertical-align: top;\n",
       "    }\n",
       "\n",
       "    .dataframe thead th {\n",
       "        text-align: right;\n",
       "    }\n",
       "</style>\n",
       "<table border=\"1\" class=\"dataframe\">\n",
       "  <thead>\n",
       "    <tr style=\"text-align: right;\">\n",
       "      <th></th>\n",
       "      <th>Coord X</th>\n",
       "      <th>Coord Y</th>\n",
       "      <th>Duration</th>\n",
       "      <th>Incident</th>\n",
       "      <th>Month</th>\n",
       "      <th>Day</th>\n",
       "      <th>Hour</th>\n",
       "      <th>area_name</th>\n",
       "    </tr>\n",
       "  </thead>\n",
       "  <tbody>\n",
       "    <tr>\n",
       "      <th>0</th>\n",
       "      <td>573429.10</td>\n",
       "      <td>6274373.0</td>\n",
       "      <td>118</td>\n",
       "      <td>16</td>\n",
       "      <td>8</td>\n",
       "      <td>231</td>\n",
       "      <td>11</td>\n",
       "      <td>TOULOUSE - VION</td>\n",
       "    </tr>\n",
       "    <tr>\n",
       "      <th>1</th>\n",
       "      <td>571266.60</td>\n",
       "      <td>6280046.5</td>\n",
       "      <td>135</td>\n",
       "      <td>19</td>\n",
       "      <td>12</td>\n",
       "      <td>335</td>\n",
       "      <td>17</td>\n",
       "      <td>TOULOUSE - VION</td>\n",
       "    </tr>\n",
       "    <tr>\n",
       "      <th>2</th>\n",
       "      <td>571044.70</td>\n",
       "      <td>6276829.5</td>\n",
       "      <td>11</td>\n",
       "      <td>1</td>\n",
       "      <td>5</td>\n",
       "      <td>157</td>\n",
       "      <td>14</td>\n",
       "      <td>TOULOUSE - VION</td>\n",
       "    </tr>\n",
       "    <tr>\n",
       "      <th>3</th>\n",
       "      <td>573795.40</td>\n",
       "      <td>6285673.5</td>\n",
       "      <td>51</td>\n",
       "      <td>10</td>\n",
       "      <td>10</td>\n",
       "      <td>291</td>\n",
       "      <td>17</td>\n",
       "      <td>TOULOUSE - VION</td>\n",
       "    </tr>\n",
       "    <tr>\n",
       "      <th>4</th>\n",
       "      <td>571516.75</td>\n",
       "      <td>6278247.5</td>\n",
       "      <td>133</td>\n",
       "      <td>2</td>\n",
       "      <td>5</td>\n",
       "      <td>134</td>\n",
       "      <td>10</td>\n",
       "      <td>TOULOUSE - VION</td>\n",
       "    </tr>\n",
       "  </tbody>\n",
       "</table>\n",
       "</div>"
      ],
      "text/plain": [
       "     Coord X    Coord Y  Duration  Incident  Month  Day  Hour        area_name\n",
       "0  573429.10  6274373.0       118        16      8  231    11  TOULOUSE - VION\n",
       "1  571266.60  6280046.5       135        19     12  335    17  TOULOUSE - VION\n",
       "2  571044.70  6276829.5        11         1      5  157    14  TOULOUSE - VION\n",
       "3  573795.40  6285673.5        51        10     10  291    17  TOULOUSE - VION\n",
       "4  571516.75  6278247.5       133         2      5  134    10  TOULOUSE - VION"
      ]
     },
     "execution_count": 14,
     "metadata": {},
     "output_type": "execute_result"
    }
   ],
   "source": [
    "df_new = new_df_sample(df_new_samples, df_gan)\n",
    "df_new.head()"
   ]
  },
  {
   "cell_type": "code",
   "execution_count": 15,
   "id": "1258986e-6887-4a1f-b129-da7473fb7e23",
   "metadata": {},
   "outputs": [],
   "source": [
    "df_new.to_csv(\"resample_gan.csv\", index=False, header=True)"
   ]
  },
  {
   "cell_type": "markdown",
   "id": "59d58cf6-414c-4fbc-8c8b-1f32816df164",
   "metadata": {},
   "source": [
    "## CTGAN"
   ]
  },
  {
   "cell_type": "code",
   "execution_count": 16,
   "id": "fcdce1ca-db10-4673-b8ad-d57cde541bda",
   "metadata": {},
   "outputs": [],
   "source": [
    "gdf_fake = geopandas.GeoDataFrame(df_ctgan, geometry=geopandas.points_from_xy(df_ctgan['Coord X'], df_ctgan['Coord Y']), crs=\"2154\")\n",
    "df_ctgan['area_name'] = gdf_fake[\"geometry\"].apply(get_point_in_area, args=(zones,))"
   ]
  },
  {
   "cell_type": "code",
   "execution_count": 17,
   "id": "24222b82-209a-489e-814f-71d07f6b5e8b",
   "metadata": {},
   "outputs": [
    {
     "data": {
      "text/html": [
       "<div>\n",
       "<style scoped>\n",
       "    .dataframe tbody tr th:only-of-type {\n",
       "        vertical-align: middle;\n",
       "    }\n",
       "\n",
       "    .dataframe tbody tr th {\n",
       "        vertical-align: top;\n",
       "    }\n",
       "\n",
       "    .dataframe thead th {\n",
       "        text-align: right;\n",
       "    }\n",
       "</style>\n",
       "<table border=\"1\" class=\"dataframe\">\n",
       "  <thead>\n",
       "    <tr style=\"text-align: right;\">\n",
       "      <th></th>\n",
       "      <th>Coord X</th>\n",
       "      <th>Coord Y</th>\n",
       "      <th>Duration</th>\n",
       "      <th>Incident</th>\n",
       "      <th>Month</th>\n",
       "      <th>Hour</th>\n",
       "      <th>Day</th>\n",
       "      <th>area_name</th>\n",
       "    </tr>\n",
       "  </thead>\n",
       "  <tbody>\n",
       "    <tr>\n",
       "      <th>0</th>\n",
       "      <td>572452.517724</td>\n",
       "      <td>6.278690e+06</td>\n",
       "      <td>29</td>\n",
       "      <td>3</td>\n",
       "      <td>1</td>\n",
       "      <td>0</td>\n",
       "      <td>42</td>\n",
       "      <td>TOULOUSE - VION</td>\n",
       "    </tr>\n",
       "    <tr>\n",
       "      <th>1</th>\n",
       "      <td>573494.000000</td>\n",
       "      <td>6.279253e+06</td>\n",
       "      <td>105</td>\n",
       "      <td>24</td>\n",
       "      <td>10</td>\n",
       "      <td>22</td>\n",
       "      <td>303</td>\n",
       "      <td>TOULOUSE - VION</td>\n",
       "    </tr>\n",
       "    <tr>\n",
       "      <th>2</th>\n",
       "      <td>572608.781368</td>\n",
       "      <td>6.279877e+06</td>\n",
       "      <td>27</td>\n",
       "      <td>6</td>\n",
       "      <td>3</td>\n",
       "      <td>0</td>\n",
       "      <td>64</td>\n",
       "      <td>TOULOUSE - VION</td>\n",
       "    </tr>\n",
       "    <tr>\n",
       "      <th>3</th>\n",
       "      <td>571912.755844</td>\n",
       "      <td>6.282510e+06</td>\n",
       "      <td>96</td>\n",
       "      <td>12</td>\n",
       "      <td>11</td>\n",
       "      <td>2</td>\n",
       "      <td>309</td>\n",
       "      <td>TOULOUSE - VION</td>\n",
       "    </tr>\n",
       "    <tr>\n",
       "      <th>4</th>\n",
       "      <td>573408.434436</td>\n",
       "      <td>6.280631e+06</td>\n",
       "      <td>36</td>\n",
       "      <td>3</td>\n",
       "      <td>12</td>\n",
       "      <td>18</td>\n",
       "      <td>305</td>\n",
       "      <td>TOULOUSE - VION</td>\n",
       "    </tr>\n",
       "  </tbody>\n",
       "</table>\n",
       "</div>"
      ],
      "text/plain": [
       "         Coord X       Coord Y  Duration  Incident  Month  Hour  Day  \\\n",
       "0  572452.517724  6.278690e+06        29         3      1     0   42   \n",
       "1  573494.000000  6.279253e+06       105        24     10    22  303   \n",
       "2  572608.781368  6.279877e+06        27         6      3     0   64   \n",
       "3  571912.755844  6.282510e+06        96        12     11     2  309   \n",
       "4  573408.434436  6.280631e+06        36         3     12    18  305   \n",
       "\n",
       "         area_name  \n",
       "0  TOULOUSE - VION  \n",
       "1  TOULOUSE - VION  \n",
       "2  TOULOUSE - VION  \n",
       "3  TOULOUSE - VION  \n",
       "4  TOULOUSE - VION  "
      ]
     },
     "execution_count": 17,
     "metadata": {},
     "output_type": "execute_result"
    }
   ],
   "source": [
    "df_new = new_df_sample(df_new_samples, df_ctgan)\n",
    "df_new.head()"
   ]
  },
  {
   "cell_type": "code",
   "execution_count": 18,
   "id": "54047e5c-59f9-4881-9638-09f82fcb0b6d",
   "metadata": {},
   "outputs": [],
   "source": [
    "df_new.to_csv(\"resample_ctgan.csv\", index=False, header=True)"
   ]
  },
  {
   "cell_type": "markdown",
   "id": "cbf70dd2-f1c6-4af8-a6f6-c50eeffa6214",
   "metadata": {},
   "source": [
    "## DDPM"
   ]
  },
  {
   "cell_type": "code",
   "execution_count": 19,
   "id": "efbeb3a0-7355-497d-abf2-cfaa735d977b",
   "metadata": {},
   "outputs": [],
   "source": [
    "gdf_fake = geopandas.GeoDataFrame(df_ddpm, geometry=geopandas.points_from_xy(df_ddpm['Coord X'], df_ddpm['Coord Y']), crs=\"2154\")\n",
    "df_ddpm['area_name'] = gdf_fake[\"geometry\"].apply(get_point_in_area, args=(zones,))"
   ]
  },
  {
   "cell_type": "code",
   "execution_count": 20,
   "id": "2bbbae6f-bb25-4db9-b00d-3605b47cfdde",
   "metadata": {},
   "outputs": [
    {
     "data": {
      "text/html": [
       "<div>\n",
       "<style scoped>\n",
       "    .dataframe tbody tr th:only-of-type {\n",
       "        vertical-align: middle;\n",
       "    }\n",
       "\n",
       "    .dataframe tbody tr th {\n",
       "        vertical-align: top;\n",
       "    }\n",
       "\n",
       "    .dataframe thead th {\n",
       "        text-align: right;\n",
       "    }\n",
       "</style>\n",
       "<table border=\"1\" class=\"dataframe\">\n",
       "  <thead>\n",
       "    <tr style=\"text-align: right;\">\n",
       "      <th></th>\n",
       "      <th>Coord X</th>\n",
       "      <th>Coord Y</th>\n",
       "      <th>Duration</th>\n",
       "      <th>Day</th>\n",
       "      <th>Month</th>\n",
       "      <th>Hour</th>\n",
       "      <th>Incident</th>\n",
       "      <th>area_name</th>\n",
       "    </tr>\n",
       "  </thead>\n",
       "  <tbody>\n",
       "    <tr>\n",
       "      <th>0</th>\n",
       "      <td>572709.368182</td>\n",
       "      <td>6.277876e+06</td>\n",
       "      <td>38</td>\n",
       "      <td>52</td>\n",
       "      <td>2</td>\n",
       "      <td>15</td>\n",
       "      <td>10</td>\n",
       "      <td>TOULOUSE - VION</td>\n",
       "    </tr>\n",
       "    <tr>\n",
       "      <th>1</th>\n",
       "      <td>572545.550167</td>\n",
       "      <td>6.276899e+06</td>\n",
       "      <td>38</td>\n",
       "      <td>46</td>\n",
       "      <td>2</td>\n",
       "      <td>10</td>\n",
       "      <td>2</td>\n",
       "      <td>TOULOUSE - VION</td>\n",
       "    </tr>\n",
       "    <tr>\n",
       "      <th>2</th>\n",
       "      <td>571918.338052</td>\n",
       "      <td>6.274543e+06</td>\n",
       "      <td>34</td>\n",
       "      <td>132</td>\n",
       "      <td>5</td>\n",
       "      <td>18</td>\n",
       "      <td>24</td>\n",
       "      <td>TOULOUSE - VION</td>\n",
       "    </tr>\n",
       "    <tr>\n",
       "      <th>3</th>\n",
       "      <td>571459.136565</td>\n",
       "      <td>6.280166e+06</td>\n",
       "      <td>75</td>\n",
       "      <td>202</td>\n",
       "      <td>7</td>\n",
       "      <td>19</td>\n",
       "      <td>4</td>\n",
       "      <td>TOULOUSE - VION</td>\n",
       "    </tr>\n",
       "    <tr>\n",
       "      <th>4</th>\n",
       "      <td>572053.806689</td>\n",
       "      <td>6.281747e+06</td>\n",
       "      <td>59</td>\n",
       "      <td>192</td>\n",
       "      <td>7</td>\n",
       "      <td>12</td>\n",
       "      <td>31</td>\n",
       "      <td>TOULOUSE - VION</td>\n",
       "    </tr>\n",
       "  </tbody>\n",
       "</table>\n",
       "</div>"
      ],
      "text/plain": [
       "         Coord X       Coord Y  Duration  Day  Month  Hour  Incident  \\\n",
       "0  572709.368182  6.277876e+06        38   52      2    15        10   \n",
       "1  572545.550167  6.276899e+06        38   46      2    10         2   \n",
       "2  571918.338052  6.274543e+06        34  132      5    18        24   \n",
       "3  571459.136565  6.280166e+06        75  202      7    19         4   \n",
       "4  572053.806689  6.281747e+06        59  192      7    12        31   \n",
       "\n",
       "         area_name  \n",
       "0  TOULOUSE - VION  \n",
       "1  TOULOUSE - VION  \n",
       "2  TOULOUSE - VION  \n",
       "3  TOULOUSE - VION  \n",
       "4  TOULOUSE - VION  "
      ]
     },
     "execution_count": 20,
     "metadata": {},
     "output_type": "execute_result"
    }
   ],
   "source": [
    "df_new = new_df_sample(df_new_samples, df_ddpm)\n",
    "df_new.head()"
   ]
  },
  {
   "cell_type": "code",
   "execution_count": 21,
   "id": "5bd41cd3-c37e-4995-89a3-752dc6109a38",
   "metadata": {},
   "outputs": [],
   "source": [
    "df_new.to_csv(\"resample_ddpm.csv\", index=False, header=True)"
   ]
  },
  {
   "cell_type": "code",
   "execution_count": 22,
   "id": "75945fde-0ee3-4d88-bcaa-bd432c6780a9",
   "metadata": {},
   "outputs": [],
   "source": [
    "# get the number of iterations needed to reach the desired sample quantity\n",
    "\n",
    "df_new, cpt_samples = get_minimal_sampling(df_new_samples, df_ddpm)"
   ]
  },
  {
   "cell_type": "code",
   "execution_count": 23,
   "id": "cac40c63-0bc5-4aea-a887-ca4e73feb962",
   "metadata": {},
   "outputs": [
    {
     "data": {
      "text/plain": [
       "100968"
      ]
     },
     "execution_count": 23,
     "metadata": {},
     "output_type": "execute_result"
    }
   ],
   "source": [
    "cpt_samples"
   ]
  },
  {
   "cell_type": "code",
   "execution_count": 24,
   "id": "be3cc1ad-45b7-402d-b107-e3d05f4dfd00",
   "metadata": {},
   "outputs": [
    {
     "data": {
      "text/html": [
       "<div>\n",
       "<style scoped>\n",
       "    .dataframe tbody tr th:only-of-type {\n",
       "        vertical-align: middle;\n",
       "    }\n",
       "\n",
       "    .dataframe tbody tr th {\n",
       "        vertical-align: top;\n",
       "    }\n",
       "\n",
       "    .dataframe thead th {\n",
       "        text-align: right;\n",
       "    }\n",
       "</style>\n",
       "<table border=\"1\" class=\"dataframe\">\n",
       "  <thead>\n",
       "    <tr style=\"text-align: right;\">\n",
       "      <th></th>\n",
       "      <th>Coord X</th>\n",
       "      <th>Coord Y</th>\n",
       "      <th>Duration</th>\n",
       "      <th>Day</th>\n",
       "      <th>Month</th>\n",
       "      <th>Hour</th>\n",
       "      <th>Incident</th>\n",
       "      <th>area_name</th>\n",
       "    </tr>\n",
       "  </thead>\n",
       "  <tbody>\n",
       "    <tr>\n",
       "      <th>0</th>\n",
       "      <td>573454.288006</td>\n",
       "      <td>6.279656e+06</td>\n",
       "      <td>73</td>\n",
       "      <td>231</td>\n",
       "      <td>8</td>\n",
       "      <td>18</td>\n",
       "      <td>20</td>\n",
       "      <td>TOULOUSE - VION</td>\n",
       "    </tr>\n",
       "    <tr>\n",
       "      <th>1</th>\n",
       "      <td>577272.025670</td>\n",
       "      <td>6.281028e+06</td>\n",
       "      <td>98</td>\n",
       "      <td>131</td>\n",
       "      <td>5</td>\n",
       "      <td>14</td>\n",
       "      <td>16</td>\n",
       "      <td>TOULOUSE - LOUGNON</td>\n",
       "    </tr>\n",
       "    <tr>\n",
       "      <th>2</th>\n",
       "      <td>499627.099596</td>\n",
       "      <td>6.190281e+06</td>\n",
       "      <td>183</td>\n",
       "      <td>50</td>\n",
       "      <td>2</td>\n",
       "      <td>16</td>\n",
       "      <td>11</td>\n",
       "      <td>BAGNERES DE LUCHON</td>\n",
       "    </tr>\n",
       "    <tr>\n",
       "      <th>3</th>\n",
       "      <td>576069.944102</td>\n",
       "      <td>6.276306e+06</td>\n",
       "      <td>105</td>\n",
       "      <td>77</td>\n",
       "      <td>3</td>\n",
       "      <td>18</td>\n",
       "      <td>8</td>\n",
       "      <td>TOULOUSE - LOUGNON</td>\n",
       "    </tr>\n",
       "    <tr>\n",
       "      <th>4</th>\n",
       "      <td>575163.935982</td>\n",
       "      <td>6.279851e+06</td>\n",
       "      <td>41</td>\n",
       "      <td>63</td>\n",
       "      <td>3</td>\n",
       "      <td>20</td>\n",
       "      <td>46</td>\n",
       "      <td>TOULOUSE - LOUGNON</td>\n",
       "    </tr>\n",
       "  </tbody>\n",
       "</table>\n",
       "</div>"
      ],
      "text/plain": [
       "         Coord X       Coord Y  Duration  Day  Month  Hour  Incident  \\\n",
       "0  573454.288006  6.279656e+06        73  231      8    18        20   \n",
       "1  577272.025670  6.281028e+06        98  131      5    14        16   \n",
       "2  499627.099596  6.190281e+06       183   50      2    16        11   \n",
       "3  576069.944102  6.276306e+06       105   77      3    18         8   \n",
       "4  575163.935982  6.279851e+06        41   63      3    20        46   \n",
       "\n",
       "            area_name  \n",
       "0     TOULOUSE - VION  \n",
       "1  TOULOUSE - LOUGNON  \n",
       "2  BAGNERES DE LUCHON  \n",
       "3  TOULOUSE - LOUGNON  \n",
       "4  TOULOUSE - LOUGNON  "
      ]
     },
     "execution_count": 24,
     "metadata": {},
     "output_type": "execute_result"
    }
   ],
   "source": [
    "df_new.head()"
   ]
  },
  {
   "cell_type": "markdown",
   "id": "f8565d0f-496d-406a-853e-ee882aac1894",
   "metadata": {},
   "source": [
    "## TINY"
   ]
  },
  {
   "cell_type": "code",
   "execution_count": 25,
   "id": "ff58d57a-14d3-45a8-9878-846f711d41a9",
   "metadata": {},
   "outputs": [],
   "source": [
    "gdf_fake = geopandas.GeoDataFrame(df_tiny, geometry=geopandas.points_from_xy(df_tiny['Coord X'], df_tiny['Coord Y']), crs=\"2154\")\n",
    "df_tiny['area_name'] = gdf_fake[\"geometry\"].apply(get_point_in_area, args=(zones,))"
   ]
  },
  {
   "cell_type": "code",
   "execution_count": 26,
   "id": "adc77e70-7a02-4a7e-a28e-374237235161",
   "metadata": {},
   "outputs": [
    {
     "data": {
      "text/html": [
       "<div>\n",
       "<style scoped>\n",
       "    .dataframe tbody tr th:only-of-type {\n",
       "        vertical-align: middle;\n",
       "    }\n",
       "\n",
       "    .dataframe tbody tr th {\n",
       "        vertical-align: top;\n",
       "    }\n",
       "\n",
       "    .dataframe thead th {\n",
       "        text-align: right;\n",
       "    }\n",
       "</style>\n",
       "<table border=\"1\" class=\"dataframe\">\n",
       "  <thead>\n",
       "    <tr style=\"text-align: right;\">\n",
       "      <th></th>\n",
       "      <th>Coord X</th>\n",
       "      <th>Coord Y</th>\n",
       "      <th>Duration</th>\n",
       "      <th>Incident</th>\n",
       "      <th>Month</th>\n",
       "      <th>Day</th>\n",
       "      <th>Hour</th>\n",
       "      <th>area_name</th>\n",
       "    </tr>\n",
       "  </thead>\n",
       "  <tbody>\n",
       "    <tr>\n",
       "      <th>0</th>\n",
       "      <td>571300.600098</td>\n",
       "      <td>6.280304e+06</td>\n",
       "      <td>41</td>\n",
       "      <td>9</td>\n",
       "      <td>10</td>\n",
       "      <td>270</td>\n",
       "      <td>12</td>\n",
       "      <td>TOULOUSE - VION</td>\n",
       "    </tr>\n",
       "    <tr>\n",
       "      <th>1</th>\n",
       "      <td>571944.633299</td>\n",
       "      <td>6.280653e+06</td>\n",
       "      <td>57</td>\n",
       "      <td>1</td>\n",
       "      <td>1</td>\n",
       "      <td>3</td>\n",
       "      <td>12</td>\n",
       "      <td>TOULOUSE - VION</td>\n",
       "    </tr>\n",
       "    <tr>\n",
       "      <th>2</th>\n",
       "      <td>571932.185942</td>\n",
       "      <td>6.282404e+06</td>\n",
       "      <td>59</td>\n",
       "      <td>6</td>\n",
       "      <td>5</td>\n",
       "      <td>151</td>\n",
       "      <td>18</td>\n",
       "      <td>TOULOUSE - VION</td>\n",
       "    </tr>\n",
       "    <tr>\n",
       "      <th>3</th>\n",
       "      <td>572989.576830</td>\n",
       "      <td>6.278548e+06</td>\n",
       "      <td>57</td>\n",
       "      <td>5</td>\n",
       "      <td>1</td>\n",
       "      <td>7</td>\n",
       "      <td>19</td>\n",
       "      <td>TOULOUSE - VION</td>\n",
       "    </tr>\n",
       "    <tr>\n",
       "      <th>4</th>\n",
       "      <td>572258.189085</td>\n",
       "      <td>6.275734e+06</td>\n",
       "      <td>71</td>\n",
       "      <td>7</td>\n",
       "      <td>5</td>\n",
       "      <td>143</td>\n",
       "      <td>19</td>\n",
       "      <td>TOULOUSE - VION</td>\n",
       "    </tr>\n",
       "  </tbody>\n",
       "</table>\n",
       "</div>"
      ],
      "text/plain": [
       "         Coord X       Coord Y  Duration  Incident  Month  Day  Hour  \\\n",
       "0  571300.600098  6.280304e+06        41         9     10  270    12   \n",
       "1  571944.633299  6.280653e+06        57         1      1    3    12   \n",
       "2  571932.185942  6.282404e+06        59         6      5  151    18   \n",
       "3  572989.576830  6.278548e+06        57         5      1    7    19   \n",
       "4  572258.189085  6.275734e+06        71         7      5  143    19   \n",
       "\n",
       "         area_name  \n",
       "0  TOULOUSE - VION  \n",
       "1  TOULOUSE - VION  \n",
       "2  TOULOUSE - VION  \n",
       "3  TOULOUSE - VION  \n",
       "4  TOULOUSE - VION  "
      ]
     },
     "execution_count": 26,
     "metadata": {},
     "output_type": "execute_result"
    }
   ],
   "source": [
    "df_new = new_df_sample(df_new_samples, df_tiny)\n",
    "df_new.head()"
   ]
  },
  {
   "cell_type": "code",
   "execution_count": 27,
   "id": "85469f80-83d8-4790-8828-0f3e8e2cbd90",
   "metadata": {},
   "outputs": [],
   "source": [
    "df_new.to_csv(\"resample_tiny.csv\", index=False, header=True)"
   ]
  },
  {
   "cell_type": "code",
   "execution_count": 28,
   "id": "e2a141a1-9394-40c5-bcb1-df563051e0ed",
   "metadata": {},
   "outputs": [],
   "source": [
    "# get the number of iterations needed to reach the desired sample quantity\n",
    "\n",
    "df_new, cpt_samples = get_minimal_sampling(df_new_samples, df_tiny)"
   ]
  },
  {
   "cell_type": "code",
   "execution_count": 29,
   "id": "7655420d-9292-44ec-94fa-813bdd510452",
   "metadata": {},
   "outputs": [
    {
     "data": {
      "text/plain": [
       "112304"
      ]
     },
     "execution_count": 29,
     "metadata": {},
     "output_type": "execute_result"
    }
   ],
   "source": [
    "cpt_samples"
   ]
  },
  {
   "cell_type": "code",
   "execution_count": 30,
   "id": "43c50428-bc1e-4079-a705-359afece2cee",
   "metadata": {},
   "outputs": [
    {
     "data": {
      "text/html": [
       "<div>\n",
       "<style scoped>\n",
       "    .dataframe tbody tr th:only-of-type {\n",
       "        vertical-align: middle;\n",
       "    }\n",
       "\n",
       "    .dataframe tbody tr th {\n",
       "        vertical-align: top;\n",
       "    }\n",
       "\n",
       "    .dataframe thead th {\n",
       "        text-align: right;\n",
       "    }\n",
       "</style>\n",
       "<table border=\"1\" class=\"dataframe\">\n",
       "  <thead>\n",
       "    <tr style=\"text-align: right;\">\n",
       "      <th></th>\n",
       "      <th>Coord X</th>\n",
       "      <th>Coord Y</th>\n",
       "      <th>Duration</th>\n",
       "      <th>Incident</th>\n",
       "      <th>Month</th>\n",
       "      <th>Day</th>\n",
       "      <th>Hour</th>\n",
       "      <th>area_name</th>\n",
       "    </tr>\n",
       "  </thead>\n",
       "  <tbody>\n",
       "    <tr>\n",
       "      <th>0</th>\n",
       "      <td>572548.072144</td>\n",
       "      <td>6.281871e+06</td>\n",
       "      <td>89</td>\n",
       "      <td>8</td>\n",
       "      <td>1</td>\n",
       "      <td>0</td>\n",
       "      <td>20</td>\n",
       "      <td>TOULOUSE - VION</td>\n",
       "    </tr>\n",
       "    <tr>\n",
       "      <th>1</th>\n",
       "      <td>575538.127135</td>\n",
       "      <td>6.279145e+06</td>\n",
       "      <td>80</td>\n",
       "      <td>1</td>\n",
       "      <td>6</td>\n",
       "      <td>178</td>\n",
       "      <td>22</td>\n",
       "      <td>TOULOUSE - LOUGNON</td>\n",
       "    </tr>\n",
       "    <tr>\n",
       "      <th>2</th>\n",
       "      <td>554554.674245</td>\n",
       "      <td>6.288340e+06</td>\n",
       "      <td>66</td>\n",
       "      <td>1</td>\n",
       "      <td>6</td>\n",
       "      <td>159</td>\n",
       "      <td>23</td>\n",
       "      <td>GRENADE</td>\n",
       "    </tr>\n",
       "    <tr>\n",
       "      <th>3</th>\n",
       "      <td>575679.700000</td>\n",
       "      <td>6.260031e+06</td>\n",
       "      <td>128</td>\n",
       "      <td>2</td>\n",
       "      <td>5</td>\n",
       "      <td>125</td>\n",
       "      <td>22</td>\n",
       "      <td>AUTERIVE</td>\n",
       "    </tr>\n",
       "    <tr>\n",
       "      <th>4</th>\n",
       "      <td>561728.896463</td>\n",
       "      <td>6.261589e+06</td>\n",
       "      <td>121</td>\n",
       "      <td>1</td>\n",
       "      <td>4</td>\n",
       "      <td>86</td>\n",
       "      <td>15</td>\n",
       "      <td>MURET - MASSAT</td>\n",
       "    </tr>\n",
       "  </tbody>\n",
       "</table>\n",
       "</div>"
      ],
      "text/plain": [
       "         Coord X       Coord Y  Duration  Incident  Month  Day  Hour  \\\n",
       "0  572548.072144  6.281871e+06        89         8      1    0    20   \n",
       "1  575538.127135  6.279145e+06        80         1      6  178    22   \n",
       "2  554554.674245  6.288340e+06        66         1      6  159    23   \n",
       "3  575679.700000  6.260031e+06       128         2      5  125    22   \n",
       "4  561728.896463  6.261589e+06       121         1      4   86    15   \n",
       "\n",
       "            area_name  \n",
       "0     TOULOUSE - VION  \n",
       "1  TOULOUSE - LOUGNON  \n",
       "2             GRENADE  \n",
       "3            AUTERIVE  \n",
       "4      MURET - MASSAT  "
      ]
     },
     "execution_count": 30,
     "metadata": {},
     "output_type": "execute_result"
    }
   ],
   "source": [
    "df_new.head()"
   ]
  }
 ],
 "metadata": {
  "kernelspec": {
   "display_name": "Python 3 (ipykernel)",
   "language": "python",
   "name": "python3"
  },
  "language_info": {
   "codemirror_mode": {
    "name": "ipython",
    "version": 3
   },
   "file_extension": ".py",
   "mimetype": "text/x-python",
   "name": "python",
   "nbconvert_exporter": "python",
   "pygments_lexer": "ipython3",
   "version": "3.10.12"
  }
 },
 "nbformat": 4,
 "nbformat_minor": 5
}
